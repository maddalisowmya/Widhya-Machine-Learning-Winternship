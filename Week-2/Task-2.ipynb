{
 "cells": [
  {
   "cell_type": "code",
   "execution_count": 12,
   "metadata": {},
   "outputs": [],
   "source": [
    "# importing the required libraries\n",
    "import pandas as pd\n",
    "import numpy as np\n",
    "import seaborn as sns"
   ]
  },
  {
   "cell_type": "code",
   "execution_count": 3,
   "metadata": {},
   "outputs": [],
   "source": [
    "# reading the .csv file\n",
    "flights = pd.read_csv('flights.csv', low_memory = False)"
   ]
  },
  {
   "cell_type": "code",
   "execution_count": 5,
   "metadata": {},
   "outputs": [],
   "source": [
    "# sample of data having 100000 rows using Pandas Library\n",
    "sample = flights.iloc[:100000,:]"
   ]
  },
  {
   "cell_type": "code",
   "execution_count": 6,
   "metadata": {},
   "outputs": [
    {
     "name": "stdout",
     "output_type": "stream",
     "text": [
      "<class 'pandas.core.frame.DataFrame'>\n",
      "RangeIndex: 100000 entries, 0 to 99999\n",
      "Data columns (total 31 columns):\n",
      " #   Column               Non-Null Count   Dtype  \n",
      "---  ------               --------------   -----  \n",
      " 0   YEAR                 100000 non-null  int64  \n",
      " 1   MONTH                100000 non-null  int64  \n",
      " 2   DAY                  100000 non-null  int64  \n",
      " 3   DAY_OF_WEEK          100000 non-null  int64  \n",
      " 4   AIRLINE              100000 non-null  object \n",
      " 5   FLIGHT_NUMBER        100000 non-null  int64  \n",
      " 6   TAIL_NUMBER          99833 non-null   object \n",
      " 7   ORIGIN_AIRPORT       100000 non-null  object \n",
      " 8   DESTINATION_AIRPORT  100000 non-null  object \n",
      " 9   SCHEDULED_DEPARTURE  100000 non-null  int64  \n",
      " 10  DEPARTURE_TIME       97702 non-null   float64\n",
      " 11  DEPARTURE_DELAY      97702 non-null   float64\n",
      " 12  TAXI_OUT             97629 non-null   float64\n",
      " 13  WHEELS_OFF           97629 non-null   float64\n",
      " 14  SCHEDULED_TIME       100000 non-null  float64\n",
      " 15  ELAPSED_TIME         97387 non-null   float64\n",
      " 16  AIR_TIME             97387 non-null   float64\n",
      " 17  DISTANCE             100000 non-null  int64  \n",
      " 18  WHEELS_ON            97560 non-null   float64\n",
      " 19  TAXI_IN              97560 non-null   float64\n",
      " 20  SCHEDULED_ARRIVAL    100000 non-null  int64  \n",
      " 21  ARRIVAL_TIME         97560 non-null   float64\n",
      " 22  ARRIVAL_DELAY        97387 non-null   float64\n",
      " 23  DIVERTED             100000 non-null  int64  \n",
      " 24  CANCELLED            100000 non-null  int64  \n",
      " 25  CANCELLATION_REASON  2389 non-null    object \n",
      " 26  AIR_SYSTEM_DELAY     34625 non-null   float64\n",
      " 27  SECURITY_DELAY       34625 non-null   float64\n",
      " 28  AIRLINE_DELAY        34625 non-null   float64\n",
      " 29  LATE_AIRCRAFT_DELAY  34625 non-null   float64\n",
      " 30  WEATHER_DELAY        34625 non-null   float64\n",
      "dtypes: float64(16), int64(10), object(5)\n",
      "memory usage: 23.7+ MB\n"
     ]
    }
   ],
   "source": [
    "# getting the info of the sample data\n",
    "sample.info()"
   ]
  },
  {
   "cell_type": "code",
   "execution_count": 7,
   "metadata": {},
   "outputs": [
    {
     "data": {
      "text/plain": [
       "0    99776\n",
       "1      224\n",
       "Name: DIVERTED, dtype: int64"
      ]
     },
     "execution_count": 7,
     "metadata": {},
     "output_type": "execute_result"
    }
   ],
   "source": [
    "# checking the number of 'DIVERTED' flights in the sample\n",
    "sample['DIVERTED'].value_counts()"
   ]
  },
  {
   "cell_type": "code",
   "execution_count": 11,
   "metadata": {},
   "outputs": [
    {
     "data": {
      "text/plain": [
       "ARRIVAL_DELAY          1.000000\n",
       "DEPARTURE_DELAY        0.950838\n",
       "AIRLINE_DELAY          0.592718\n",
       "LATE_AIRCRAFT_DELAY    0.572956\n",
       "AIR_SYSTEM_DELAY       0.259700\n",
       "TAXI_OUT               0.245363\n",
       "WEATHER_DELAY          0.235906\n",
       "DEPARTURE_TIME         0.223654\n",
       "WHEELS_OFF             0.217344\n",
       "TAXI_IN                0.170073\n",
       "SCHEDULED_DEPARTURE    0.154951\n",
       "SCHEDULED_ARRIVAL      0.140565\n",
       "WHEELS_ON              0.088131\n",
       "ARRIVAL_TIME           0.076791\n",
       "DAY                    0.070770\n",
       "DAY_OF_WEEK            0.067520\n",
       "FLIGHT_NUMBER          0.056163\n",
       "ELAPSED_TIME           0.048448\n",
       "SECURITY_DELAY         0.006070\n",
       "AIR_TIME              -0.002742\n",
       "SCHEDULED_TIME        -0.022043\n",
       "DISTANCE              -0.023821\n",
       "MONTH                       NaN\n",
       "DIVERTED                    NaN\n",
       "CANCELLED                   NaN\n",
       "Name: ARRIVAL_DELAY, dtype: float64"
      ]
     },
     "execution_count": 11,
     "metadata": {},
     "output_type": "execute_result"
    }
   ],
   "source": [
    "# correlation of other features with resepct to 'ARRIVAL_DELAY'\n",
    "sample.corr()['ARRIVAL_DELAY'][1:].sort_values(ascending = False)"
   ]
  },
  {
   "cell_type": "code",
   "execution_count": 13,
   "metadata": {},
   "outputs": [
    {
     "data": {
      "text/plain": [
       "CANCELLATION_REASON    97611\n",
       "WEATHER_DELAY          65375\n",
       "AIRLINE_DELAY          65375\n",
       "SECURITY_DELAY         65375\n",
       "AIR_SYSTEM_DELAY       65375\n",
       "LATE_AIRCRAFT_DELAY    65375\n",
       "ARRIVAL_DELAY           2613\n",
       "AIR_TIME                2613\n",
       "ELAPSED_TIME            2613\n",
       "ARRIVAL_TIME            2440\n",
       "TAXI_IN                 2440\n",
       "WHEELS_ON               2440\n",
       "WHEELS_OFF              2371\n",
       "TAXI_OUT                2371\n",
       "DEPARTURE_DELAY         2298\n",
       "DEPARTURE_TIME          2298\n",
       "TAIL_NUMBER              167\n",
       "SCHEDULED_TIME             0\n",
       "CANCELLED                  0\n",
       "DIVERTED                   0\n",
       "DISTANCE                   0\n",
       "SCHEDULED_ARRIVAL          0\n",
       "SCHEDULED_DEPARTURE        0\n",
       "DESTINATION_AIRPORT        0\n",
       "ORIGIN_AIRPORT             0\n",
       "FLIGHT_NUMBER              0\n",
       "AIRLINE                    0\n",
       "DAY_OF_WEEK                0\n",
       "DAY                        0\n",
       "MONTH                      0\n",
       "YEAR                       0\n",
       "dtype: int64"
      ]
     },
     "execution_count": 13,
     "metadata": {},
     "output_type": "execute_result"
    }
   ],
   "source": [
    "# checking for null values\n",
    "sample.isnull().sum().sort_values(ascending = False)"
   ]
  },
  {
   "cell_type": "code",
   "execution_count": 14,
   "metadata": {},
   "outputs": [
    {
     "data": {
      "text/plain": [
       "(100000, 15)"
      ]
     },
     "execution_count": 14,
     "metadata": {},
     "output_type": "execute_result"
    }
   ],
   "source": [
    "# dropping various columns\n",
    "drp_cols = ['YEAR', 'FLIGHT_NUMBER', 'AIRLINE', 'DISTANCE', 'TAIL_NUMBER', 'TAXI_OUT', 'SCHEDULED_TIME', \n",
    "            'DEPARTURE_TIME','WHEELS_OFF', 'ELAPSED_TIME', 'AIR_TIME', 'WHEELS_ON', 'DAY_OF_WEEK', \n",
    "            'TAXI_IN', 'ARRIVAL_TIME', 'CANCELLATION_REASON']\n",
    "\n",
    "sample1 = sample.drop(drp_cols, axis = 1)\n",
    "sample1.shape"
   ]
  },
  {
   "cell_type": "code",
   "execution_count": 16,
   "metadata": {},
   "outputs": [
    {
     "name": "stdout",
     "output_type": "stream",
     "text": [
      "<class 'pandas.core.frame.DataFrame'>\n",
      "RangeIndex: 100000 entries, 0 to 99999\n",
      "Data columns (total 15 columns):\n",
      " #   Column               Non-Null Count   Dtype  \n",
      "---  ------               --------------   -----  \n",
      " 0   MONTH                100000 non-null  int64  \n",
      " 1   DAY                  100000 non-null  int64  \n",
      " 2   ORIGIN_AIRPORT       100000 non-null  object \n",
      " 3   DESTINATION_AIRPORT  100000 non-null  object \n",
      " 4   SCHEDULED_DEPARTURE  100000 non-null  int64  \n",
      " 5   DEPARTURE_DELAY      97702 non-null   float64\n",
      " 6   SCHEDULED_ARRIVAL    100000 non-null  int64  \n",
      " 7   ARRIVAL_DELAY        97387 non-null   float64\n",
      " 8   DIVERTED             100000 non-null  int64  \n",
      " 9   CANCELLED            100000 non-null  int64  \n",
      " 10  AIR_SYSTEM_DELAY     34625 non-null   float64\n",
      " 11  SECURITY_DELAY       34625 non-null   float64\n",
      " 12  AIRLINE_DELAY        34625 non-null   float64\n",
      " 13  LATE_AIRCRAFT_DELAY  34625 non-null   float64\n",
      " 14  WEATHER_DELAY        34625 non-null   float64\n",
      "dtypes: float64(7), int64(6), object(2)\n",
      "memory usage: 11.4+ MB\n"
     ]
    }
   ],
   "source": [
    "sample1.info()"
   ]
  },
  {
   "cell_type": "code",
   "execution_count": 17,
   "metadata": {},
   "outputs": [],
   "source": [
    "# filling the missing values\n",
    "sample1 = sample1.fillna(sample1.mean())"
   ]
  },
  {
   "cell_type": "code",
   "execution_count": 19,
   "metadata": {},
   "outputs": [
    {
     "name": "stdout",
     "output_type": "stream",
     "text": [
      "<class 'pandas.core.frame.DataFrame'>\n",
      "RangeIndex: 100000 entries, 0 to 99999\n",
      "Data columns (total 15 columns):\n",
      " #   Column               Non-Null Count   Dtype  \n",
      "---  ------               --------------   -----  \n",
      " 0   MONTH                100000 non-null  int64  \n",
      " 1   DAY                  100000 non-null  int64  \n",
      " 2   ORIGIN_AIRPORT       100000 non-null  object \n",
      " 3   DESTINATION_AIRPORT  100000 non-null  object \n",
      " 4   SCHEDULED_DEPARTURE  100000 non-null  int64  \n",
      " 5   DEPARTURE_DELAY      100000 non-null  float64\n",
      " 6   SCHEDULED_ARRIVAL    100000 non-null  int64  \n",
      " 7   ARRIVAL_DELAY        100000 non-null  float64\n",
      " 8   DIVERTED             100000 non-null  int64  \n",
      " 9   CANCELLED            100000 non-null  int64  \n",
      " 10  AIR_SYSTEM_DELAY     100000 non-null  float64\n",
      " 11  SECURITY_DELAY       100000 non-null  float64\n",
      " 12  AIRLINE_DELAY        100000 non-null  float64\n",
      " 13  LATE_AIRCRAFT_DELAY  100000 non-null  float64\n",
      " 14  WEATHER_DELAY        100000 non-null  float64\n",
      "dtypes: float64(7), int64(6), object(2)\n",
      "memory usage: 11.4+ MB\n"
     ]
    }
   ],
   "source": [
    "sample1.info()"
   ]
  },
  {
   "cell_type": "code",
   "execution_count": 20,
   "metadata": {},
   "outputs": [],
   "source": [
    "# creating a new feature 'RESULT'\n",
    "RESULT = []\n",
    "\n",
    "for r in sample1['ARRIVAL_DELAY']:\n",
    "    if r > 15 :\n",
    "        RESULT.append(1)\n",
    "    else :\n",
    "        RESULT.append(0)"
   ]
  },
  {
   "cell_type": "code",
   "execution_count": 22,
   "metadata": {},
   "outputs": [],
   "source": [
    "sample1['RESULT'] = RESULT"
   ]
  },
  {
   "cell_type": "code",
   "execution_count": 23,
   "metadata": {},
   "outputs": [
    {
     "name": "stdout",
     "output_type": "stream",
     "text": [
      "<class 'pandas.core.frame.DataFrame'>\n",
      "RangeIndex: 100000 entries, 0 to 99999\n",
      "Data columns (total 16 columns):\n",
      " #   Column               Non-Null Count   Dtype  \n",
      "---  ------               --------------   -----  \n",
      " 0   MONTH                100000 non-null  int64  \n",
      " 1   DAY                  100000 non-null  int64  \n",
      " 2   ORIGIN_AIRPORT       100000 non-null  object \n",
      " 3   DESTINATION_AIRPORT  100000 non-null  object \n",
      " 4   SCHEDULED_DEPARTURE  100000 non-null  int64  \n",
      " 5   DEPARTURE_DELAY      100000 non-null  float64\n",
      " 6   SCHEDULED_ARRIVAL    100000 non-null  int64  \n",
      " 7   ARRIVAL_DELAY        100000 non-null  float64\n",
      " 8   DIVERTED             100000 non-null  int64  \n",
      " 9   CANCELLED            100000 non-null  int64  \n",
      " 10  AIR_SYSTEM_DELAY     100000 non-null  float64\n",
      " 11  SECURITY_DELAY       100000 non-null  float64\n",
      " 12  AIRLINE_DELAY        100000 non-null  float64\n",
      " 13  LATE_AIRCRAFT_DELAY  100000 non-null  float64\n",
      " 14  WEATHER_DELAY        100000 non-null  float64\n",
      " 15  RESULT               100000 non-null  int64  \n",
      "dtypes: float64(7), int64(7), object(2)\n",
      "memory usage: 12.2+ MB\n"
     ]
    }
   ],
   "source": [
    "sample1.info()"
   ]
  },
  {
   "cell_type": "code",
   "execution_count": 24,
   "metadata": {},
   "outputs": [
    {
     "data": {
      "text/plain": [
       "0    63779\n",
       "1    36221\n",
       "Name: RESULT, dtype: int64"
      ]
     },
     "execution_count": 24,
     "metadata": {},
     "output_type": "execute_result"
    }
   ],
   "source": [
    "# to check number of flights delayed by more than 15 mins\n",
    "sample1['RESULT'].value_counts()"
   ]
  },
  {
   "cell_type": "code",
   "execution_count": 26,
   "metadata": {},
   "outputs": [],
   "source": [
    "# Splitting the data into X and Y\n",
    "\n",
    "x = sample1[['MONTH', 'DAY',\n",
    "       'SCHEDULED_DEPARTURE', 'DEPARTURE_DELAY', 'SCHEDULED_ARRIVAL',\n",
    "        'DIVERTED', 'CANCELLED', 'AIR_SYSTEM_DELAY',\n",
    "       'SECURITY_DELAY', 'AIRLINE_DELAY', 'LATE_AIRCRAFT_DELAY',\n",
    "       'WEATHER_DELAY']].values\n",
    "y = sample1['RESULT'].values\n",
    "y = y.astype('int')"
   ]
  },
  {
   "cell_type": "code",
   "execution_count": 27,
   "metadata": {},
   "outputs": [],
   "source": [
    "# splitting the data into train and test\n",
    "\n",
    "from sklearn.model_selection import train_test_split\n",
    "x_train, x_test, y_train, y_test = train_test_split(x, y, test_size = 0.3, random_state = 42)"
   ]
  },
  {
   "cell_type": "code",
   "execution_count": 30,
   "metadata": {},
   "outputs": [],
   "source": [
    "from sklearn.preprocessing import StandardScaler\n",
    "scalar = StandardScaler()\n",
    "scalar.fit(x_train)\n",
    "x_train = scalar.transform(x_train)\n",
    "x_test = scalar.transform(x_test)"
   ]
  },
  {
   "cell_type": "code",
   "execution_count": 31,
   "metadata": {},
   "outputs": [
    {
     "data": {
      "text/plain": [
       "DecisionTreeClassifier()"
      ]
     },
     "execution_count": 31,
     "metadata": {},
     "output_type": "execute_result"
    }
   ],
   "source": [
    "# Model building\n",
    "\n",
    "from sklearn.tree import DecisionTreeClassifier\n",
    "clf = DecisionTreeClassifier(criterion = 'gini')\n",
    "clf.fit(x_train, y_train)"
   ]
  },
  {
   "cell_type": "code",
   "execution_count": 32,
   "metadata": {},
   "outputs": [],
   "source": [
    "predicted = clf.predict(x_test)"
   ]
  },
  {
   "cell_type": "code",
   "execution_count": 38,
   "metadata": {},
   "outputs": [
    {
     "name": "stdout",
     "output_type": "stream",
     "text": [
      "0.9981684823083186\n"
     ]
    }
   ],
   "source": [
    "# calculating auc and roc score\n",
    "\n",
    "from sklearn.metrics import roc_auc_score\n",
    "print(roc_auc_score(y_test, clf.predict_proba(x_test)[:, 1]))"
   ]
  }
 ],
 "metadata": {
  "kernelspec": {
   "display_name": "Python 3",
   "language": "python",
   "name": "python3"
  },
  "language_info": {
   "codemirror_mode": {
    "name": "ipython",
    "version": 3
   },
   "file_extension": ".py",
   "mimetype": "text/x-python",
   "name": "python",
   "nbconvert_exporter": "python",
   "pygments_lexer": "ipython3",
   "version": "3.8.5"
  }
 },
 "nbformat": 4,
 "nbformat_minor": 4
}
