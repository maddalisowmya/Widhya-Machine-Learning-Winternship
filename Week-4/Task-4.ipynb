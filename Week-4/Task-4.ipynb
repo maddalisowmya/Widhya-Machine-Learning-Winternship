{
 "cells": [
  {
   "cell_type": "code",
   "execution_count": 1,
   "metadata": {},
   "outputs": [],
   "source": [
    "# importing required packages\n",
    "import pandas as pd\n",
    "import numpy as np\n",
    "import quandl\n",
    "import math"
   ]
  },
  {
   "cell_type": "code",
   "execution_count": 2,
   "metadata": {},
   "outputs": [],
   "source": [
    "# install quandll\n",
    "# !pip install quandl"
   ]
  },
  {
   "cell_type": "code",
   "execution_count": 3,
   "metadata": {},
   "outputs": [],
   "source": [
    "# personal API Key\n",
    "quandl.ApiConfig.api_key = \"\" # input your key"
   ]
  },
  {
   "cell_type": "code",
   "execution_count": 4,
   "metadata": {},
   "outputs": [],
   "source": [
    "df = quandl.get(\"EOD/AAPL\")"
   ]
  },
  {
   "cell_type": "code",
   "execution_count": 5,
   "metadata": {},
   "outputs": [
    {
     "data": {
      "text/plain": [
       "Date\n",
       "2013-09-03    2.711941\n",
       "2013-09-04    1.195129\n",
       "2013-09-05    1.421447\n",
       "2013-09-06    1.892738\n",
       "2013-09-09    0.877176\n",
       "                ...   \n",
       "2017-12-21    1.097080\n",
       "2017-12-22    0.527970\n",
       "2017-12-26    1.050009\n",
       "2017-12-27    0.627198\n",
       "2017-12-28    0.800795\n",
       "Name: HL_PCT, Length: 1090, dtype: float64"
      ]
     },
     "execution_count": 5,
     "metadata": {},
     "output_type": "execute_result"
    }
   ],
   "source": [
    "# high low percentage\n",
    "df['HL_PCT'] = (df['Adj_High']-df['Adj_Low'])/df['Adj_Close']*100\n",
    "df['HL_PCT']"
   ]
  },
  {
   "cell_type": "code",
   "execution_count": 6,
   "metadata": {},
   "outputs": [
    {
     "data": {
      "text/plain": [
       "Date\n",
       "2013-09-03   -0.916650\n",
       "2013-09-04   -0.173953\n",
       "2013-09-05   -0.995502\n",
       "2013-09-06   -0.044138\n",
       "2013-09-09    0.231683\n",
       "                ...   \n",
       "2017-12-21    0.482287\n",
       "2017-12-22    0.188917\n",
       "2017-12-26   -0.134660\n",
       "2017-12-27    0.293945\n",
       "2017-12-28    0.046784\n",
       "Name: PCT_change, Length: 1090, dtype: float64"
      ]
     },
     "execution_count": 6,
     "metadata": {},
     "output_type": "execute_result"
    }
   ],
   "source": [
    "# percentage change\n",
    "df['PCT_change'] = (df['Adj_Close']-df['Adj_Open'])/df['Adj_Open']*100\n",
    "df['PCT_change']"
   ]
  },
  {
   "cell_type": "code",
   "execution_count": 7,
   "metadata": {},
   "outputs": [],
   "source": [
    "data = (df['Adj_Close'],df['PCT_change'],df['HL_PCT'],df['Adj_Volume'])\n",
    "df1 = pd.DataFrame(data)"
   ]
  },
  {
   "cell_type": "code",
   "execution_count": 8,
   "metadata": {},
   "outputs": [
    {
     "data": {
      "text/plain": [
       "Date\n",
       "2013-09-03    0\n",
       "2013-09-04    0\n",
       "2013-09-05    0\n",
       "2013-09-06    0\n",
       "2013-09-09    0\n",
       "             ..\n",
       "2017-12-21    0\n",
       "2017-12-22    0\n",
       "2017-12-26    0\n",
       "2017-12-27    0\n",
       "2017-12-28    0\n",
       "Length: 1090, dtype: int64"
      ]
     },
     "execution_count": 8,
     "metadata": {},
     "output_type": "execute_result"
    }
   ],
   "source": [
    "df1.isna().sum()"
   ]
  },
  {
   "cell_type": "code",
   "execution_count": 9,
   "metadata": {},
   "outputs": [
    {
     "data": {
      "text/html": [
       "<div>\n",
       "<style scoped>\n",
       "    .dataframe tbody tr th:only-of-type {\n",
       "        vertical-align: middle;\n",
       "    }\n",
       "\n",
       "    .dataframe tbody tr th {\n",
       "        vertical-align: top;\n",
       "    }\n",
       "\n",
       "    .dataframe thead th {\n",
       "        text-align: right;\n",
       "    }\n",
       "</style>\n",
       "<table border=\"1\" class=\"dataframe\">\n",
       "  <thead>\n",
       "    <tr style=\"text-align: right;\">\n",
       "      <th>Date</th>\n",
       "      <th>2013-09-03</th>\n",
       "      <th>2013-09-04</th>\n",
       "      <th>2013-09-05</th>\n",
       "      <th>2013-09-06</th>\n",
       "      <th>2013-09-09</th>\n",
       "      <th>2013-09-10</th>\n",
       "      <th>2013-09-11</th>\n",
       "      <th>2013-09-12</th>\n",
       "      <th>2013-09-13</th>\n",
       "      <th>2013-09-16</th>\n",
       "      <th>...</th>\n",
       "      <th>2017-12-14</th>\n",
       "      <th>2017-12-15</th>\n",
       "      <th>2017-12-18</th>\n",
       "      <th>2017-12-19</th>\n",
       "      <th>2017-12-20</th>\n",
       "      <th>2017-12-21</th>\n",
       "      <th>2017-12-22</th>\n",
       "      <th>2017-12-26</th>\n",
       "      <th>2017-12-27</th>\n",
       "      <th>2017-12-28</th>\n",
       "    </tr>\n",
       "  </thead>\n",
       "  <tbody>\n",
       "    <tr>\n",
       "      <th>Adj_Close</th>\n",
       "      <td>1.547647e+01</td>\n",
       "      <td>1.579675e+01</td>\n",
       "      <td>1.568839e+01</td>\n",
       "      <td>1.578183e+01</td>\n",
       "      <td>1.603366e+01</td>\n",
       "      <td>1.566843e+01</td>\n",
       "      <td>1.481539e+01</td>\n",
       "      <td>1.497313e+01</td>\n",
       "      <td>1.472637e+01</td>\n",
       "      <td>1.425820e+01</td>\n",
       "      <td>...</td>\n",
       "      <td>4.143046e+01</td>\n",
       "      <td>4.185146e+01</td>\n",
       "      <td>4.244085e+01</td>\n",
       "      <td>4.198858e+01</td>\n",
       "      <td>4.194287e+01</td>\n",
       "      <td>4.210165e+01</td>\n",
       "      <td>4.210165e+01</td>\n",
       "      <td>4.103353e+01</td>\n",
       "      <td>4.104075e+01</td>\n",
       "      <td>4.115622e+01</td>\n",
       "    </tr>\n",
       "    <tr>\n",
       "      <th>PCT_change</th>\n",
       "      <td>-9.166498e-01</td>\n",
       "      <td>-1.739531e-01</td>\n",
       "      <td>-9.955022e-01</td>\n",
       "      <td>-4.413771e-02</td>\n",
       "      <td>2.316832e-01</td>\n",
       "      <td>-2.283682e+00</td>\n",
       "      <td>1.498683e-01</td>\n",
       "      <td>8.943436e-01</td>\n",
       "      <td>-9.460515e-01</td>\n",
       "      <td>-2.360087e+00</td>\n",
       "      <td>...</td>\n",
       "      <td>-1.044084e-01</td>\n",
       "      <td>1.958187e-01</td>\n",
       "      <td>8.806038e-01</td>\n",
       "      <td>-2.799520e-01</td>\n",
       "      <td>-2.973638e-01</td>\n",
       "      <td>4.822874e-01</td>\n",
       "      <td>1.889169e-01</td>\n",
       "      <td>-1.346604e-01</td>\n",
       "      <td>2.939447e-01</td>\n",
       "      <td>4.678363e-02</td>\n",
       "    </tr>\n",
       "    <tr>\n",
       "      <th>HL_PCT</th>\n",
       "      <td>2.711941e+00</td>\n",
       "      <td>1.195129e+00</td>\n",
       "      <td>1.421447e+00</td>\n",
       "      <td>1.892738e+00</td>\n",
       "      <td>8.771757e-01</td>\n",
       "      <td>3.628902e+00</td>\n",
       "      <td>1.898612e+00</td>\n",
       "      <td>1.986503e+00</td>\n",
       "      <td>1.533491e+00</td>\n",
       "      <td>3.196903e+00</td>\n",
       "      <td>...</td>\n",
       "      <td>8.593659e-01</td>\n",
       "      <td>9.829281e-01</td>\n",
       "      <td>1.326380e+00</td>\n",
       "      <td>7.448149e-01</td>\n",
       "      <td>1.244623e+00</td>\n",
       "      <td>1.097080e+00</td>\n",
       "      <td>5.279698e-01</td>\n",
       "      <td>1.050009e+00</td>\n",
       "      <td>6.271981e-01</td>\n",
       "      <td>8.007949e-01</td>\n",
       "    </tr>\n",
       "    <tr>\n",
       "      <th>Adj_Volume</th>\n",
       "      <td>3.319288e+08</td>\n",
       "      <td>3.450328e+08</td>\n",
       "      <td>2.363676e+08</td>\n",
       "      <td>3.595256e+08</td>\n",
       "      <td>3.406872e+08</td>\n",
       "      <td>7.431956e+08</td>\n",
       "      <td>8.986964e+08</td>\n",
       "      <td>4.040512e+08</td>\n",
       "      <td>2.988356e+08</td>\n",
       "      <td>5.437068e+08</td>\n",
       "      <td>...</td>\n",
       "      <td>8.190616e+07</td>\n",
       "      <td>1.606772e+08</td>\n",
       "      <td>1.176845e+08</td>\n",
       "      <td>1.097458e+08</td>\n",
       "      <td>9.390260e+07</td>\n",
       "      <td>8.379958e+07</td>\n",
       "      <td>6.539778e+07</td>\n",
       "      <td>1.327421e+08</td>\n",
       "      <td>8.599285e+07</td>\n",
       "      <td>6.592075e+07</td>\n",
       "    </tr>\n",
       "  </tbody>\n",
       "</table>\n",
       "<p>4 rows × 1090 columns</p>\n",
       "</div>"
      ],
      "text/plain": [
       "Date          2013-09-03    2013-09-04    2013-09-05    2013-09-06  \\\n",
       "Adj_Close   1.547647e+01  1.579675e+01  1.568839e+01  1.578183e+01   \n",
       "PCT_change -9.166498e-01 -1.739531e-01 -9.955022e-01 -4.413771e-02   \n",
       "HL_PCT      2.711941e+00  1.195129e+00  1.421447e+00  1.892738e+00   \n",
       "Adj_Volume  3.319288e+08  3.450328e+08  2.363676e+08  3.595256e+08   \n",
       "\n",
       "Date          2013-09-09    2013-09-10    2013-09-11    2013-09-12  \\\n",
       "Adj_Close   1.603366e+01  1.566843e+01  1.481539e+01  1.497313e+01   \n",
       "PCT_change  2.316832e-01 -2.283682e+00  1.498683e-01  8.943436e-01   \n",
       "HL_PCT      8.771757e-01  3.628902e+00  1.898612e+00  1.986503e+00   \n",
       "Adj_Volume  3.406872e+08  7.431956e+08  8.986964e+08  4.040512e+08   \n",
       "\n",
       "Date          2013-09-13    2013-09-16  ...    2017-12-14    2017-12-15  \\\n",
       "Adj_Close   1.472637e+01  1.425820e+01  ...  4.143046e+01  4.185146e+01   \n",
       "PCT_change -9.460515e-01 -2.360087e+00  ... -1.044084e-01  1.958187e-01   \n",
       "HL_PCT      1.533491e+00  3.196903e+00  ...  8.593659e-01  9.829281e-01   \n",
       "Adj_Volume  2.988356e+08  5.437068e+08  ...  8.190616e+07  1.606772e+08   \n",
       "\n",
       "Date          2017-12-18    2017-12-19    2017-12-20    2017-12-21  \\\n",
       "Adj_Close   4.244085e+01  4.198858e+01  4.194287e+01  4.210165e+01   \n",
       "PCT_change  8.806038e-01 -2.799520e-01 -2.973638e-01  4.822874e-01   \n",
       "HL_PCT      1.326380e+00  7.448149e-01  1.244623e+00  1.097080e+00   \n",
       "Adj_Volume  1.176845e+08  1.097458e+08  9.390260e+07  8.379958e+07   \n",
       "\n",
       "Date          2017-12-22    2017-12-26    2017-12-27    2017-12-28  \n",
       "Adj_Close   4.210165e+01  4.103353e+01  4.104075e+01  4.115622e+01  \n",
       "PCT_change  1.889169e-01 -1.346604e-01  2.939447e-01  4.678363e-02  \n",
       "HL_PCT      5.279698e-01  1.050009e+00  6.271981e-01  8.007949e-01  \n",
       "Adj_Volume  6.539778e+07  1.327421e+08  8.599285e+07  6.592075e+07  \n",
       "\n",
       "[4 rows x 1090 columns]"
      ]
     },
     "execution_count": 9,
     "metadata": {},
     "output_type": "execute_result"
    }
   ],
   "source": [
    "# filling the missing values\n",
    "df1.fillna(-99999)"
   ]
  },
  {
   "cell_type": "code",
   "execution_count": 10,
   "metadata": {},
   "outputs": [
    {
     "data": {
      "text/html": [
       "<div>\n",
       "<style scoped>\n",
       "    .dataframe tbody tr th:only-of-type {\n",
       "        vertical-align: middle;\n",
       "    }\n",
       "\n",
       "    .dataframe tbody tr th {\n",
       "        vertical-align: top;\n",
       "    }\n",
       "\n",
       "    .dataframe thead th {\n",
       "        text-align: right;\n",
       "    }\n",
       "</style>\n",
       "<table border=\"1\" class=\"dataframe\">\n",
       "  <thead>\n",
       "    <tr style=\"text-align: right;\">\n",
       "      <th></th>\n",
       "      <th>Adj_Close</th>\n",
       "      <th>PCT_change</th>\n",
       "      <th>HL_PCT</th>\n",
       "      <th>Adj_Volume</th>\n",
       "    </tr>\n",
       "    <tr>\n",
       "      <th>Date</th>\n",
       "      <th></th>\n",
       "      <th></th>\n",
       "      <th></th>\n",
       "      <th></th>\n",
       "    </tr>\n",
       "  </thead>\n",
       "  <tbody>\n",
       "    <tr>\n",
       "      <th>2013-09-03</th>\n",
       "      <td>15.476472</td>\n",
       "      <td>-0.916650</td>\n",
       "      <td>2.711941</td>\n",
       "      <td>331928800.0</td>\n",
       "    </tr>\n",
       "    <tr>\n",
       "      <th>2013-09-04</th>\n",
       "      <td>15.796753</td>\n",
       "      <td>-0.173953</td>\n",
       "      <td>1.195129</td>\n",
       "      <td>345032800.0</td>\n",
       "    </tr>\n",
       "    <tr>\n",
       "      <th>2013-09-05</th>\n",
       "      <td>15.688388</td>\n",
       "      <td>-0.995502</td>\n",
       "      <td>1.421447</td>\n",
       "      <td>236367600.0</td>\n",
       "    </tr>\n",
       "    <tr>\n",
       "      <th>2013-09-06</th>\n",
       "      <td>15.781833</td>\n",
       "      <td>-0.044138</td>\n",
       "      <td>1.892738</td>\n",
       "      <td>359525600.0</td>\n",
       "    </tr>\n",
       "    <tr>\n",
       "      <th>2013-09-09</th>\n",
       "      <td>16.033661</td>\n",
       "      <td>0.231683</td>\n",
       "      <td>0.877176</td>\n",
       "      <td>340687200.0</td>\n",
       "    </tr>\n",
       "    <tr>\n",
       "      <th>...</th>\n",
       "      <td>...</td>\n",
       "      <td>...</td>\n",
       "      <td>...</td>\n",
       "      <td>...</td>\n",
       "    </tr>\n",
       "    <tr>\n",
       "      <th>2017-12-21</th>\n",
       "      <td>42.101646</td>\n",
       "      <td>0.482287</td>\n",
       "      <td>1.097080</td>\n",
       "      <td>83799584.0</td>\n",
       "    </tr>\n",
       "    <tr>\n",
       "      <th>2017-12-22</th>\n",
       "      <td>42.101646</td>\n",
       "      <td>0.188917</td>\n",
       "      <td>0.527970</td>\n",
       "      <td>65397776.0</td>\n",
       "    </tr>\n",
       "    <tr>\n",
       "      <th>2017-12-26</th>\n",
       "      <td>41.033528</td>\n",
       "      <td>-0.134660</td>\n",
       "      <td>1.050009</td>\n",
       "      <td>132742144.0</td>\n",
       "    </tr>\n",
       "    <tr>\n",
       "      <th>2017-12-27</th>\n",
       "      <td>41.040745</td>\n",
       "      <td>0.293945</td>\n",
       "      <td>0.627198</td>\n",
       "      <td>85992852.0</td>\n",
       "    </tr>\n",
       "    <tr>\n",
       "      <th>2017-12-28</th>\n",
       "      <td>41.156217</td>\n",
       "      <td>0.046784</td>\n",
       "      <td>0.800795</td>\n",
       "      <td>65920748.0</td>\n",
       "    </tr>\n",
       "  </tbody>\n",
       "</table>\n",
       "<p>1090 rows × 4 columns</p>\n",
       "</div>"
      ],
      "text/plain": [
       "            Adj_Close  PCT_change    HL_PCT   Adj_Volume\n",
       "Date                                                    \n",
       "2013-09-03  15.476472   -0.916650  2.711941  331928800.0\n",
       "2013-09-04  15.796753   -0.173953  1.195129  345032800.0\n",
       "2013-09-05  15.688388   -0.995502  1.421447  236367600.0\n",
       "2013-09-06  15.781833   -0.044138  1.892738  359525600.0\n",
       "2013-09-09  16.033661    0.231683  0.877176  340687200.0\n",
       "...               ...         ...       ...          ...\n",
       "2017-12-21  42.101646    0.482287  1.097080   83799584.0\n",
       "2017-12-22  42.101646    0.188917  0.527970   65397776.0\n",
       "2017-12-26  41.033528   -0.134660  1.050009  132742144.0\n",
       "2017-12-27  41.040745    0.293945  0.627198   85992852.0\n",
       "2017-12-28  41.156217    0.046784  0.800795   65920748.0\n",
       "\n",
       "[1090 rows x 4 columns]"
      ]
     },
     "execution_count": 10,
     "metadata": {},
     "output_type": "execute_result"
    }
   ],
   "source": [
    "df2 = df1.transpose()\n",
    "df2"
   ]
  },
  {
   "cell_type": "code",
   "execution_count": 11,
   "metadata": {},
   "outputs": [],
   "source": [
    "x = df2[['PCT_change','HL_PCT','Adj_Volume']].values\n",
    "y = df2['Adj_Close'].values"
   ]
  },
  {
   "cell_type": "code",
   "execution_count": 12,
   "metadata": {},
   "outputs": [],
   "source": [
    "# splitting the dataset\n",
    "from sklearn.model_selection import train_test_split\n",
    "x_train, x_test, y_train, y_test = train_test_split(x, y, test_size=0.2, random_state=43)"
   ]
  },
  {
   "cell_type": "code",
   "execution_count": 13,
   "metadata": {},
   "outputs": [],
   "source": [
    "from sklearn import linear_model \n",
    "from sklearn.linear_model import LinearRegression"
   ]
  },
  {
   "cell_type": "code",
   "execution_count": 14,
   "metadata": {},
   "outputs": [
    {
     "data": {
      "text/plain": [
       "LinearRegression()"
      ]
     },
     "execution_count": 14,
     "metadata": {},
     "output_type": "execute_result"
    }
   ],
   "source": [
    "regressor = LinearRegression()  \n",
    "regressor.fit(x_train, y_train)"
   ]
  },
  {
   "cell_type": "code",
   "execution_count": 15,
   "metadata": {},
   "outputs": [
    {
     "name": "stdout",
     "output_type": "stream",
     "text": [
      "[-7.48936294e-02  1.33846981e+00 -3.81227771e-08]\n"
     ]
    }
   ],
   "source": [
    "print(regressor.coef_)"
   ]
  },
  {
   "cell_type": "code",
   "execution_count": 16,
   "metadata": {},
   "outputs": [],
   "source": [
    "y_prediction = regressor.predict(x_test)"
   ]
  },
  {
   "cell_type": "code",
   "execution_count": 17,
   "metadata": {},
   "outputs": [],
   "source": [
    "from sklearn import metrics\n",
    "from sklearn.metrics import mean_squared_error\n",
    "from sklearn.metrics import r2_score"
   ]
  },
  {
   "cell_type": "code",
   "execution_count": 18,
   "metadata": {},
   "outputs": [
    {
     "name": "stdout",
     "output_type": "stream",
     "text": [
      "r2 score for perfect model is 0.3624533659370923\n"
     ]
    }
   ],
   "source": [
    "# calculating the r2 score\n",
    "r2 = r2_score(y_test,y_prediction)\n",
    "print('r2 score for perfect model is',r2)"
   ]
  },
  {
   "cell_type": "code",
   "execution_count": 19,
   "metadata": {},
   "outputs": [
    {
     "name": "stdout",
     "output_type": "stream",
     "text": [
      "Mean Square Error: 27.818867022403396\n"
     ]
    }
   ],
   "source": [
    "# calculating the mean square error\n",
    "print('Mean Square Error:', metrics.mean_squared_error(y_test, y_prediction))"
   ]
  }
 ],
 "metadata": {
  "kernelspec": {
   "display_name": "Python 3",
   "language": "python",
   "name": "python3"
  },
  "language_info": {
   "codemirror_mode": {
    "name": "ipython",
    "version": 3
   },
   "file_extension": ".py",
   "mimetype": "text/x-python",
   "name": "python",
   "nbconvert_exporter": "python",
   "pygments_lexer": "ipython3",
   "version": "3.8.5"
  }
 },
 "nbformat": 4,
 "nbformat_minor": 4
}
